{
 "cells": [
  {
   "cell_type": "code",
   "execution_count": 1,
   "metadata": {
    "ExecuteTime": {
     "end_time": "2020-06-26T07:58:44.114470Z",
     "start_time": "2020-06-26T07:58:43.728592Z"
    }
   },
   "outputs": [],
   "source": [
    "import pandas as pd"
   ]
  },
  {
   "cell_type": "markdown",
   "metadata": {},
   "source": [
    "### ad"
   ]
  },
  {
   "cell_type": "code",
   "execution_count": 2,
   "metadata": {
    "ExecuteTime": {
     "end_time": "2020-06-26T07:58:45.097629Z",
     "start_time": "2020-06-26T07:58:44.115436Z"
    }
   },
   "outputs": [
    {
     "data": {
      "text/plain": [
       "(2481135, 6)"
      ]
     },
     "execution_count": 2,
     "metadata": {},
     "output_type": "execute_result"
    }
   ],
   "source": [
    "df_tr_ad = pd.read_csv('../data/raw/train/ad.csv', sep=',')\n",
    "df_tr_ad.shape"
   ]
  },
  {
   "cell_type": "code",
   "execution_count": 3,
   "metadata": {
    "ExecuteTime": {
     "end_time": "2020-06-26T07:58:45.102630Z",
     "start_time": "2020-06-26T07:58:45.098633Z"
    }
   },
   "outputs": [],
   "source": [
    "ad_cols = list(df_tr_ad.columns)"
   ]
  },
  {
   "cell_type": "code",
   "execution_count": 4,
   "metadata": {
    "ExecuteTime": {
     "end_time": "2020-06-26T07:58:45.118628Z",
     "start_time": "2020-06-26T07:58:45.104628Z"
    }
   },
   "outputs": [
    {
     "data": {
      "text/html": [
       "<div>\n",
       "<style scoped>\n",
       "    .dataframe tbody tr th:only-of-type {\n",
       "        vertical-align: middle;\n",
       "    }\n",
       "\n",
       "    .dataframe tbody tr th {\n",
       "        vertical-align: top;\n",
       "    }\n",
       "\n",
       "    .dataframe thead th {\n",
       "        text-align: right;\n",
       "    }\n",
       "</style>\n",
       "<table border=\"1\" class=\"dataframe\">\n",
       "  <thead>\n",
       "    <tr style=\"text-align: right;\">\n",
       "      <th></th>\n",
       "      <th>creative_id</th>\n",
       "      <th>ad_id</th>\n",
       "      <th>product_id</th>\n",
       "      <th>product_category</th>\n",
       "      <th>advertiser_id</th>\n",
       "      <th>industry</th>\n",
       "    </tr>\n",
       "  </thead>\n",
       "  <tbody>\n",
       "    <tr>\n",
       "      <th>0</th>\n",
       "      <td>1</td>\n",
       "      <td>1</td>\n",
       "      <td>\\N</td>\n",
       "      <td>5</td>\n",
       "      <td>381</td>\n",
       "      <td>78</td>\n",
       "    </tr>\n",
       "    <tr>\n",
       "      <th>1</th>\n",
       "      <td>4</td>\n",
       "      <td>4</td>\n",
       "      <td>\\N</td>\n",
       "      <td>5</td>\n",
       "      <td>108</td>\n",
       "      <td>202</td>\n",
       "    </tr>\n",
       "    <tr>\n",
       "      <th>2</th>\n",
       "      <td>7</td>\n",
       "      <td>7</td>\n",
       "      <td>\\N</td>\n",
       "      <td>5</td>\n",
       "      <td>148</td>\n",
       "      <td>297</td>\n",
       "    </tr>\n",
       "    <tr>\n",
       "      <th>3</th>\n",
       "      <td>8</td>\n",
       "      <td>8</td>\n",
       "      <td>\\N</td>\n",
       "      <td>5</td>\n",
       "      <td>713</td>\n",
       "      <td>213</td>\n",
       "    </tr>\n",
       "    <tr>\n",
       "      <th>4</th>\n",
       "      <td>9</td>\n",
       "      <td>9</td>\n",
       "      <td>\\N</td>\n",
       "      <td>5</td>\n",
       "      <td>695</td>\n",
       "      <td>213</td>\n",
       "    </tr>\n",
       "  </tbody>\n",
       "</table>\n",
       "</div>"
      ],
      "text/plain": [
       "   creative_id  ad_id product_id  product_category  advertiser_id industry\n",
       "0            1      1         \\N                 5            381       78\n",
       "1            4      4         \\N                 5            108      202\n",
       "2            7      7         \\N                 5            148      297\n",
       "3            8      8         \\N                 5            713      213\n",
       "4            9      9         \\N                 5            695      213"
      ]
     },
     "execution_count": 4,
     "metadata": {},
     "output_type": "execute_result"
    }
   ],
   "source": [
    "df_tr_ad.head()"
   ]
  },
  {
   "cell_type": "code",
   "execution_count": 5,
   "metadata": {
    "ExecuteTime": {
     "end_time": "2020-06-26T07:58:46.172506Z",
     "start_time": "2020-06-26T07:58:45.120628Z"
    }
   },
   "outputs": [
    {
     "data": {
      "text/plain": [
       "(2618159, 6)"
      ]
     },
     "execution_count": 5,
     "metadata": {},
     "output_type": "execute_result"
    }
   ],
   "source": [
    "df_te_ad = pd.read_csv('../data/raw/test/ad.csv', sep=',')\n",
    "df_te_ad.shape"
   ]
  },
  {
   "cell_type": "code",
   "execution_count": 6,
   "metadata": {
    "ExecuteTime": {
     "end_time": "2020-06-26T07:58:46.181507Z",
     "start_time": "2020-06-26T07:58:46.173505Z"
    }
   },
   "outputs": [
    {
     "data": {
      "text/html": [
       "<div>\n",
       "<style scoped>\n",
       "    .dataframe tbody tr th:only-of-type {\n",
       "        vertical-align: middle;\n",
       "    }\n",
       "\n",
       "    .dataframe tbody tr th {\n",
       "        vertical-align: top;\n",
       "    }\n",
       "\n",
       "    .dataframe thead th {\n",
       "        text-align: right;\n",
       "    }\n",
       "</style>\n",
       "<table border=\"1\" class=\"dataframe\">\n",
       "  <thead>\n",
       "    <tr style=\"text-align: right;\">\n",
       "      <th></th>\n",
       "      <th>creative_id</th>\n",
       "      <th>ad_id</th>\n",
       "      <th>product_id</th>\n",
       "      <th>product_category</th>\n",
       "      <th>advertiser_id</th>\n",
       "      <th>industry</th>\n",
       "    </tr>\n",
       "  </thead>\n",
       "  <tbody>\n",
       "    <tr>\n",
       "      <th>0</th>\n",
       "      <td>1</td>\n",
       "      <td>1</td>\n",
       "      <td>\\N</td>\n",
       "      <td>5</td>\n",
       "      <td>381</td>\n",
       "      <td>78</td>\n",
       "    </tr>\n",
       "    <tr>\n",
       "      <th>1</th>\n",
       "      <td>3</td>\n",
       "      <td>3</td>\n",
       "      <td>\\N</td>\n",
       "      <td>5</td>\n",
       "      <td>598</td>\n",
       "      <td>165</td>\n",
       "    </tr>\n",
       "    <tr>\n",
       "      <th>2</th>\n",
       "      <td>4</td>\n",
       "      <td>4</td>\n",
       "      <td>\\N</td>\n",
       "      <td>5</td>\n",
       "      <td>108</td>\n",
       "      <td>202</td>\n",
       "    </tr>\n",
       "    <tr>\n",
       "      <th>3</th>\n",
       "      <td>5</td>\n",
       "      <td>5</td>\n",
       "      <td>\\N</td>\n",
       "      <td>5</td>\n",
       "      <td>109</td>\n",
       "      <td>6</td>\n",
       "    </tr>\n",
       "    <tr>\n",
       "      <th>4</th>\n",
       "      <td>6</td>\n",
       "      <td>6</td>\n",
       "      <td>\\N</td>\n",
       "      <td>5</td>\n",
       "      <td>400</td>\n",
       "      <td>6</td>\n",
       "    </tr>\n",
       "  </tbody>\n",
       "</table>\n",
       "</div>"
      ],
      "text/plain": [
       "   creative_id  ad_id product_id  product_category  advertiser_id industry\n",
       "0            1      1         \\N                 5            381       78\n",
       "1            3      3         \\N                 5            598      165\n",
       "2            4      4         \\N                 5            108      202\n",
       "3            5      5         \\N                 5            109        6\n",
       "4            6      6         \\N                 5            400        6"
      ]
     },
     "execution_count": 6,
     "metadata": {},
     "output_type": "execute_result"
    }
   ],
   "source": [
    "df_te_ad.head()"
   ]
  },
  {
   "cell_type": "code",
   "execution_count": 7,
   "metadata": {
    "ExecuteTime": {
     "end_time": "2020-06-26T07:58:46.189514Z",
     "start_time": "2020-06-26T07:58:46.182505Z"
    },
    "scrolled": true
   },
   "outputs": [],
   "source": [
    "def diff_dist(df_tr, df_te, sel_cols):\n",
    "    res = dict()\n",
    "    for col in sel_cols:\n",
    "        print('current col is: ', col)\n",
    "#         if col in ['product_id', 'industry']:\n",
    "#             tr_set = set(df_tr[df_tr[col] != '\\\\N'][col])\n",
    "#             te_set = set(df_te[df_te[col] != '\\\\N'][col])\n",
    "#         else:\n",
    "        tr_set = set(df_tr[col])\n",
    "        te_set = set(df_te[col])\n",
    "        inter_set = tr_set & te_set\n",
    "        print('num of vals in train data is: ', len(tr_set))\n",
    "        print('num of vals in test data is: ', len(te_set))\n",
    "        print('num of vals in inter data is: ', len(inter_set))\n",
    "        print('rate of inter&train data is: ', len(inter_set) / len(tr_set))\n",
    "        print('rate of inter&test data is: ', len(inter_set) / len(te_set))\n",
    "        print('\\n')\n",
    "        res[col] = pd.DataFrame(data=list(inter_set), columns=[col])\n",
    "    return res"
   ]
  },
  {
   "cell_type": "code",
   "execution_count": 8,
   "metadata": {
    "ExecuteTime": {
     "end_time": "2020-06-26T07:58:48.668789Z",
     "start_time": "2020-06-26T07:58:46.191519Z"
    }
   },
   "outputs": [
    {
     "name": "stdout",
     "output_type": "stream",
     "text": [
      "current col is:  creative_id\n",
      "num of vals in train data is:  2481135\n",
      "num of vals in test data is:  2618159\n",
      "num of vals in inter data is:  1686522\n",
      "rate of inter&train data is:  0.6797381037307523\n",
      "rate of inter&test data is:  0.6441633223956222\n",
      "\n",
      "\n",
      "current col is:  ad_id\n",
      "num of vals in train data is:  2264190\n",
      "num of vals in test data is:  2379475\n",
      "num of vals in inter data is:  1616305\n",
      "rate of inter&train data is:  0.7138557276553646\n",
      "rate of inter&test data is:  0.6792695867785962\n",
      "\n",
      "\n",
      "current col is:  product_id\n",
      "num of vals in train data is:  33273\n",
      "num of vals in test data is:  34111\n",
      "num of vals in inter data is:  28327\n",
      "rate of inter&train data is:  0.8513509452108317\n",
      "rate of inter&test data is:  0.8304359297587288\n",
      "\n",
      "\n",
      "current col is:  product_category\n",
      "num of vals in train data is:  18\n",
      "num of vals in test data is:  18\n",
      "num of vals in inter data is:  18\n",
      "rate of inter&train data is:  1.0\n",
      "rate of inter&test data is:  1.0\n",
      "\n",
      "\n",
      "current col is:  advertiser_id\n",
      "num of vals in train data is:  52090\n",
      "num of vals in test data is:  52861\n",
      "num of vals in inter data is:  47081\n",
      "rate of inter&train data is:  0.9038395085429065\n",
      "rate of inter&test data is:  0.890656627759596\n",
      "\n",
      "\n",
      "current col is:  industry\n",
      "num of vals in train data is:  326\n",
      "num of vals in test data is:  326\n",
      "num of vals in inter data is:  320\n",
      "rate of inter&train data is:  0.9815950920245399\n",
      "rate of inter&test data is:  0.9815950920245399\n",
      "\n",
      "\n"
     ]
    }
   ],
   "source": [
    "res_dict = diff_dist(df_tr_ad, df_te_ad, ad_cols)"
   ]
  },
  {
   "cell_type": "markdown",
   "metadata": {},
   "source": [
    "### click"
   ]
  },
  {
   "cell_type": "code",
   "execution_count": 9,
   "metadata": {
    "ExecuteTime": {
     "end_time": "2020-06-26T07:58:48.672789Z",
     "start_time": "2020-06-26T07:58:48.669792Z"
    }
   },
   "outputs": [],
   "source": [
    "def gene_df(df_ad, click_path):\n",
    "    df_click = pd.read_csv(click_path, sep=',')\n",
    "    print('df_click shape is: ', df_click.shape)\n",
    "    df_merge = pd.merge(df_click, df_ad, on='creative_id', how='left')\n",
    "    print('df_merge shape is: ', df_merge.shape)\n",
    "    del df_click\n",
    "    return df_merge"
   ]
  },
  {
   "cell_type": "code",
   "execution_count": 10,
   "metadata": {
    "ExecuteTime": {
     "end_time": "2020-06-26T07:59:12.197364Z",
     "start_time": "2020-06-26T07:58:48.673790Z"
    }
   },
   "outputs": [
    {
     "name": "stdout",
     "output_type": "stream",
     "text": [
      "df_click shape is:  (30082771, 4)\n",
      "df_merge shape is:  (30082771, 9)\n"
     ]
    },
    {
     "data": {
      "text/html": [
       "<div>\n",
       "<style scoped>\n",
       "    .dataframe tbody tr th:only-of-type {\n",
       "        vertical-align: middle;\n",
       "    }\n",
       "\n",
       "    .dataframe tbody tr th {\n",
       "        vertical-align: top;\n",
       "    }\n",
       "\n",
       "    .dataframe thead th {\n",
       "        text-align: right;\n",
       "    }\n",
       "</style>\n",
       "<table border=\"1\" class=\"dataframe\">\n",
       "  <thead>\n",
       "    <tr style=\"text-align: right;\">\n",
       "      <th></th>\n",
       "      <th>time</th>\n",
       "      <th>user_id</th>\n",
       "      <th>creative_id</th>\n",
       "      <th>click_times</th>\n",
       "      <th>ad_id</th>\n",
       "      <th>product_id</th>\n",
       "      <th>product_category</th>\n",
       "      <th>advertiser_id</th>\n",
       "      <th>industry</th>\n",
       "    </tr>\n",
       "  </thead>\n",
       "  <tbody>\n",
       "    <tr>\n",
       "      <th>0</th>\n",
       "      <td>9</td>\n",
       "      <td>30920</td>\n",
       "      <td>567330</td>\n",
       "      <td>1</td>\n",
       "      <td>504423</td>\n",
       "      <td>30673</td>\n",
       "      <td>3</td>\n",
       "      <td>32638</td>\n",
       "      <td>319</td>\n",
       "    </tr>\n",
       "    <tr>\n",
       "      <th>1</th>\n",
       "      <td>65</td>\n",
       "      <td>30920</td>\n",
       "      <td>3072255</td>\n",
       "      <td>1</td>\n",
       "      <td>2642300</td>\n",
       "      <td>1261</td>\n",
       "      <td>2</td>\n",
       "      <td>6783</td>\n",
       "      <td>6</td>\n",
       "    </tr>\n",
       "    <tr>\n",
       "      <th>2</th>\n",
       "      <td>56</td>\n",
       "      <td>30920</td>\n",
       "      <td>2361327</td>\n",
       "      <td>1</td>\n",
       "      <td>2035918</td>\n",
       "      <td>1261</td>\n",
       "      <td>2</td>\n",
       "      <td>6783</td>\n",
       "      <td>6</td>\n",
       "    </tr>\n",
       "    <tr>\n",
       "      <th>3</th>\n",
       "      <td>6</td>\n",
       "      <td>309204</td>\n",
       "      <td>325532</td>\n",
       "      <td>1</td>\n",
       "      <td>292523</td>\n",
       "      <td>27081</td>\n",
       "      <td>3</td>\n",
       "      <td>32066</td>\n",
       "      <td>242</td>\n",
       "    </tr>\n",
       "    <tr>\n",
       "      <th>4</th>\n",
       "      <td>59</td>\n",
       "      <td>309204</td>\n",
       "      <td>2746730</td>\n",
       "      <td>1</td>\n",
       "      <td>2362208</td>\n",
       "      <td>\\N</td>\n",
       "      <td>18</td>\n",
       "      <td>14682</td>\n",
       "      <td>88</td>\n",
       "    </tr>\n",
       "  </tbody>\n",
       "</table>\n",
       "</div>"
      ],
      "text/plain": [
       "   time  user_id  creative_id  click_times    ad_id product_id  \\\n",
       "0     9    30920       567330            1   504423      30673   \n",
       "1    65    30920      3072255            1  2642300       1261   \n",
       "2    56    30920      2361327            1  2035918       1261   \n",
       "3     6   309204       325532            1   292523      27081   \n",
       "4    59   309204      2746730            1  2362208         \\N   \n",
       "\n",
       "   product_category  advertiser_id industry  \n",
       "0                 3          32638      319  \n",
       "1                 2           6783        6  \n",
       "2                 2           6783        6  \n",
       "3                 3          32066      242  \n",
       "4                18          14682       88  "
      ]
     },
     "execution_count": 10,
     "metadata": {},
     "output_type": "execute_result"
    }
   ],
   "source": [
    "df_tr_click = gene_df(df_tr_ad, '../data/raw/train/click_log.csv')\n",
    "df_tr_click.head()"
   ]
  },
  {
   "cell_type": "code",
   "execution_count": 11,
   "metadata": {
    "ExecuteTime": {
     "end_time": "2020-06-26T07:59:40.021615Z",
     "start_time": "2020-06-26T07:59:12.199364Z"
    }
   },
   "outputs": [
    {
     "name": "stdout",
     "output_type": "stream",
     "text": [
      "df_click shape is:  (33585512, 4)\n",
      "df_merge shape is:  (33585512, 9)\n"
     ]
    },
    {
     "data": {
      "text/html": [
       "<div>\n",
       "<style scoped>\n",
       "    .dataframe tbody tr th:only-of-type {\n",
       "        vertical-align: middle;\n",
       "    }\n",
       "\n",
       "    .dataframe tbody tr th {\n",
       "        vertical-align: top;\n",
       "    }\n",
       "\n",
       "    .dataframe thead th {\n",
       "        text-align: right;\n",
       "    }\n",
       "</style>\n",
       "<table border=\"1\" class=\"dataframe\">\n",
       "  <thead>\n",
       "    <tr style=\"text-align: right;\">\n",
       "      <th></th>\n",
       "      <th>time</th>\n",
       "      <th>user_id</th>\n",
       "      <th>creative_id</th>\n",
       "      <th>click_times</th>\n",
       "      <th>ad_id</th>\n",
       "      <th>product_id</th>\n",
       "      <th>product_category</th>\n",
       "      <th>advertiser_id</th>\n",
       "      <th>industry</th>\n",
       "    </tr>\n",
       "  </thead>\n",
       "  <tbody>\n",
       "    <tr>\n",
       "      <th>0</th>\n",
       "      <td>20</td>\n",
       "      <td>3131989</td>\n",
       "      <td>645764</td>\n",
       "      <td>1</td>\n",
       "      <td>573314</td>\n",
       "      <td>58</td>\n",
       "      <td>2</td>\n",
       "      <td>14689</td>\n",
       "      <td>6</td>\n",
       "    </tr>\n",
       "    <tr>\n",
       "      <th>1</th>\n",
       "      <td>20</td>\n",
       "      <td>3131989</td>\n",
       "      <td>1027422</td>\n",
       "      <td>1</td>\n",
       "      <td>902764</td>\n",
       "      <td>129</td>\n",
       "      <td>2</td>\n",
       "      <td>42272</td>\n",
       "      <td>6</td>\n",
       "    </tr>\n",
       "    <tr>\n",
       "      <th>2</th>\n",
       "      <td>20</td>\n",
       "      <td>3131989</td>\n",
       "      <td>1106443</td>\n",
       "      <td>1</td>\n",
       "      <td>970829</td>\n",
       "      <td>2171</td>\n",
       "      <td>2</td>\n",
       "      <td>37513</td>\n",
       "      <td>322</td>\n",
       "    </tr>\n",
       "    <tr>\n",
       "      <th>3</th>\n",
       "      <td>20</td>\n",
       "      <td>3131989</td>\n",
       "      <td>629802</td>\n",
       "      <td>1</td>\n",
       "      <td>559183</td>\n",
       "      <td>\\N</td>\n",
       "      <td>18</td>\n",
       "      <td>14678</td>\n",
       "      <td>26</td>\n",
       "    </tr>\n",
       "    <tr>\n",
       "      <th>4</th>\n",
       "      <td>59</td>\n",
       "      <td>3131989</td>\n",
       "      <td>2839769</td>\n",
       "      <td>1</td>\n",
       "      <td>2441288</td>\n",
       "      <td>129</td>\n",
       "      <td>2</td>\n",
       "      <td>35328</td>\n",
       "      <td>6</td>\n",
       "    </tr>\n",
       "  </tbody>\n",
       "</table>\n",
       "</div>"
      ],
      "text/plain": [
       "   time  user_id  creative_id  click_times    ad_id product_id  \\\n",
       "0    20  3131989       645764            1   573314         58   \n",
       "1    20  3131989      1027422            1   902764        129   \n",
       "2    20  3131989      1106443            1   970829       2171   \n",
       "3    20  3131989       629802            1   559183         \\N   \n",
       "4    59  3131989      2839769            1  2441288        129   \n",
       "\n",
       "   product_category  advertiser_id industry  \n",
       "0                 2          14689        6  \n",
       "1                 2          42272        6  \n",
       "2                 2          37513      322  \n",
       "3                18          14678       26  \n",
       "4                 2          35328        6  "
      ]
     },
     "execution_count": 11,
     "metadata": {},
     "output_type": "execute_result"
    }
   ],
   "source": [
    "df_te_click = gene_df(df_te_ad, '../data/raw/test/click_log.csv')\n",
    "df_te_click.head()"
   ]
  },
  {
   "cell_type": "code",
   "execution_count": 12,
   "metadata": {
    "ExecuteTime": {
     "end_time": "2020-06-26T07:59:41.620740Z",
     "start_time": "2020-06-26T07:59:40.021615Z"
    }
   },
   "outputs": [
    {
     "data": {
      "text/plain": [
       "1000000"
      ]
     },
     "execution_count": 12,
     "metadata": {},
     "output_type": "execute_result"
    }
   ],
   "source": [
    "len(set(df_te_click['user_id']))"
   ]
  },
  {
   "cell_type": "code",
   "execution_count": 13,
   "metadata": {
    "ExecuteTime": {
     "end_time": "2020-06-26T07:59:41.625744Z",
     "start_time": "2020-06-26T07:59:41.621742Z"
    }
   },
   "outputs": [],
   "source": [
    "def diff_dist2(df_tr, df_te, sel_cols, res_dict):\n",
    "    for col in sel_cols:\n",
    "        print('current col is: ', col)\n",
    "        df_col = res_dict[col]\n",
    "        df_tr_cover = pd.merge(df_tr[[col]], df_col, on=col)\n",
    "        df_te_cover = pd.merge(df_te[[col]], df_col, on=col)\n",
    "        print('df_tr cover is: ', df_tr_cover.shape[0] / df_tr.shape[0])\n",
    "        print('df_te cover is: ', df_te_cover.shape[0] / df_te.shape[0])\n",
    "    return"
   ]
  },
  {
   "cell_type": "code",
   "execution_count": 14,
   "metadata": {
    "ExecuteTime": {
     "end_time": "2020-06-26T08:00:50.554086Z",
     "start_time": "2020-06-26T07:59:41.626755Z"
    }
   },
   "outputs": [
    {
     "name": "stdout",
     "output_type": "stream",
     "text": [
      "current col is:  creative_id\n",
      "df_tr cover is:  0.9654974603237182\n",
      "df_te cover is:  0.9620350286754599\n",
      "current col is:  ad_id\n",
      "df_tr cover is:  0.9710756033744364\n",
      "df_te cover is:  0.9678852297978962\n",
      "current col is:  product_id\n",
      "df_tr cover is:  0.9997614913865481\n",
      "df_te cover is:  0.9997299430778367\n",
      "current col is:  product_category\n",
      "df_tr cover is:  1.0\n",
      "df_te cover is:  1.0\n",
      "current col is:  advertiser_id\n",
      "df_tr cover is:  0.9997522502165774\n",
      "df_te cover is:  0.9997235712827602\n",
      "current col is:  industry\n",
      "df_tr cover is:  0.9999997008254327\n",
      "df_te cover is:  0.9999997022525665\n"
     ]
    }
   ],
   "source": [
    "diff_dist2(df_tr_click, df_te_click, ad_cols, res_dict)"
   ]
  },
  {
   "cell_type": "code",
   "execution_count": null,
   "metadata": {},
   "outputs": [],
   "source": []
  }
 ],
 "metadata": {
  "hide_input": false,
  "kernelspec": {
   "display_name": "Python 3",
   "language": "python",
   "name": "python3"
  },
  "language_info": {
   "codemirror_mode": {
    "name": "ipython",
    "version": 3
   },
   "file_extension": ".py",
   "mimetype": "text/x-python",
   "name": "python",
   "nbconvert_exporter": "python",
   "pygments_lexer": "ipython3",
   "version": "3.6.5"
  },
  "toc": {
   "base_numbering": 1,
   "nav_menu": {},
   "number_sections": true,
   "sideBar": true,
   "skip_h1_title": false,
   "title_cell": "Table of Contents",
   "title_sidebar": "Contents",
   "toc_cell": false,
   "toc_position": {},
   "toc_section_display": true,
   "toc_window_display": false
  },
  "varInspector": {
   "cols": {
    "lenName": 16,
    "lenType": 16,
    "lenVar": 40
   },
   "kernels_config": {
    "python": {
     "delete_cmd_postfix": "",
     "delete_cmd_prefix": "del ",
     "library": "var_list.py",
     "varRefreshCmd": "print(var_dic_list())"
    },
    "r": {
     "delete_cmd_postfix": ") ",
     "delete_cmd_prefix": "rm(",
     "library": "var_list.r",
     "varRefreshCmd": "cat(var_dic_list()) "
    }
   },
   "types_to_exclude": [
    "module",
    "function",
    "builtin_function_or_method",
    "instance",
    "_Feature"
   ],
   "window_display": false
  }
 },
 "nbformat": 4,
 "nbformat_minor": 2
}

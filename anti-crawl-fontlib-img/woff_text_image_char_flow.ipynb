{
 "cells": [
  {
   "cell_type": "markdown",
   "metadata": {},
   "source": [
    "## general idea\n",
    "\n",
    "- woff to text\n",
    "    - woff file/url to xml file\n",
    "    - xml file to text (dict)\n",
    "- text to image\n",
    "- image to char"
   ]
  },
  {
   "cell_type": "markdown",
   "metadata": {},
   "source": [
    "## woff to text \n",
    "\n",
    "- see Woff2Text.py\n",
    "- text has been saved in json file"
   ]
  },
  {
   "cell_type": "code",
   "execution_count": 108,
   "metadata": {
    "ExecuteTime": {
     "end_time": "2019-05-22T10:03:54.744195Z",
     "start_time": "2019-05-22T10:03:54.739185Z"
    }
   },
   "outputs": [],
   "source": [
    "import json"
   ]
  },
  {
   "cell_type": "code",
   "execution_count": 109,
   "metadata": {
    "ExecuteTime": {
     "end_time": "2019-05-22T10:03:54.770097Z",
     "start_time": "2019-05-22T10:03:54.748156Z"
    }
   },
   "outputs": [],
   "source": [
    "text = json.load(open('./files/demo.json', 'r'))"
   ]
  },
  {
   "cell_type": "code",
   "execution_count": 110,
   "metadata": {
    "ExecuteTime": {
     "end_time": "2019-05-22T10:03:54.776083Z",
     "start_time": "2019-05-22T10:03:54.771095Z"
    }
   },
   "outputs": [
    {
     "data": {
      "text/plain": [
       "{'width': 2584,\n",
       " 'height': 2282,\n",
       " 'data': [[[358, 2019],\n",
       "   [2286, 2019],\n",
       "   [2286, 1863],\n",
       "   [1496, 1863],\n",
       "   [1496, 559],\n",
       "   [1496, 265],\n",
       "   [1188, 263],\n",
       "   [1046, 263],\n",
       "   [804, 267],\n",
       "   [794, 345],\n",
       "   [770, 461],\n",
       "   [948, 445],\n",
       "   [1134, 443],\n",
       "   [1318, 435],\n",
       "   [1318, 623],\n",
       "   [1318, 1863],\n",
       "   [358, 1863]]]}"
      ]
     },
     "execution_count": 110,
     "metadata": {},
     "output_type": "execute_result"
    }
   ],
   "source": [
    "text['unie055']"
   ]
  },
  {
   "cell_type": "markdown",
   "metadata": {},
   "source": [
    "## text to image, char (see main_chunk.py)"
   ]
  },
  {
   "cell_type": "code",
   "execution_count": 111,
   "metadata": {
    "ExecuteTime": {
     "end_time": "2019-05-22T10:03:54.801016Z",
     "start_time": "2019-05-22T10:03:54.798048Z"
    }
   },
   "outputs": [],
   "source": [
    "import cv2\n",
    "import numpy as np\n",
    "from PIL import Image\n",
    "import pytesseract"
   ]
  },
  {
   "cell_type": "code",
   "execution_count": 112,
   "metadata": {
    "ExecuteTime": {
     "end_time": "2019-05-22T10:03:54.811024Z",
     "start_time": "2019-05-22T10:03:54.806001Z"
    }
   },
   "outputs": [],
   "source": [
    "def create_img(item, img_method):\n",
    "    key = item[0]\n",
    "    content = item[1]\n",
    "    im = np.zeros([content['height'], content['width']], dtype=np.uint8)\n",
    "    if img_method == 'm1':\n",
    "        for sub_data in content['data']:\n",
    "            fill_contour(im, sub_data, 255)\n",
    "    else:\n",
    "        # ensure line_width >= 1\n",
    "        line_width = max(int(content['width'] * 0.02), 1)\n",
    "        for sub_data in content['data']:\n",
    "            line_contour(im, sub_data, 255, line_width)\n",
    "        if img_method == 'm2':\n",
    "            reconstruct_contour(im, 255)\n",
    "    im = cv2.flip(im, 0)  # flip in x-axis\n",
    "    im = cv2.resize(im, (256, 256))\n",
    "    return key, im"
   ]
  },
  {
   "cell_type": "code",
   "execution_count": 113,
   "metadata": {
    "ExecuteTime": {
     "end_time": "2019-05-22T10:03:54.817000Z",
     "start_time": "2019-05-22T10:03:54.812989Z"
    }
   },
   "outputs": [],
   "source": [
    "def fill_contour(im, sub_data, fill_color):\n",
    "    new_data = np.array(sub_data, dtype=np.int32).reshape(1, -1, 2)  # reshape is important\n",
    "    cv2.fillPoly(im, new_data, fill_color)"
   ]
  },
  {
   "cell_type": "code",
   "execution_count": 114,
   "metadata": {
    "ExecuteTime": {
     "end_time": "2019-05-22T10:03:54.822959Z",
     "start_time": "2019-05-22T10:03:54.817970Z"
    }
   },
   "outputs": [],
   "source": [
    "def line_contour(im, sub_data, fill_color, line_width):\n",
    "    new_data = np.array(sub_data, dtype=np.int32).reshape(1, -1, 2)\n",
    "    cv2.polylines(im, new_data, isClosed=1,color=fill_color, thickness=line_width)"
   ]
  },
  {
   "cell_type": "code",
   "execution_count": 115,
   "metadata": {
    "ExecuteTime": {
     "end_time": "2019-05-22T10:03:54.832973Z",
     "start_time": "2019-05-22T10:03:54.824952Z"
    }
   },
   "outputs": [],
   "source": [
    "# find and fill (only adapt to simple character!!!)\n",
    "def reconstruct_contour(im, fill_color):\n",
    "    contours, hierarchy = cv2.findContours(\n",
    "        im, cv2.RETR_TREE, cv2.CHAIN_APPROX_SIMPLE)\n",
    "    hierarchy = hierarchy.reshape(-1, 4)\n",
    "    h_level = [[i, dict()] for i in range(len(contours))]\n",
    "    h_level = dict(h_level)\n",
    "    sys_level = 0  # it starts from 0 always at idx = 0\n",
    "    for i in range(len(contours)):\n",
    "        if not 'level' in h_level[i]:\n",
    "            tmp = []\n",
    "            h_level[i]['level'] = sys_level\n",
    "            tmp.append(i)\n",
    "            j = i\n",
    "            while True:\n",
    "                j = hierarchy[j, 0]\n",
    "                if j == -1:\n",
    "                    break\n",
    "                h_level[j]['level'] = sys_level\n",
    "                tmp.append(j)\n",
    "            for k in tmp:\n",
    "                k = hierarchy[k, 2]\n",
    "                if k != -1:\n",
    "                    h_level[k]['level'] = sys_level\n",
    "            sys_level += 1\n",
    "        if h_level[i]['level'] % 2 == 0:\n",
    "            cv2.drawContours(im, contours, i, fill_color, cv2.FILLED)\n",
    "        else:\n",
    "            # re-fill dark, very import\n",
    "            cv2.drawContours(im, contours, i, 0, cv2.FILLED)"
   ]
  },
  {
   "cell_type": "code",
   "execution_count": 116,
   "metadata": {
    "ExecuteTime": {
     "end_time": "2019-05-22T10:03:54.838914Z",
     "start_time": "2019-05-22T10:03:54.833930Z"
    }
   },
   "outputs": [],
   "source": [
    "def ocr(im):\n",
    "    # --oem: 0 means original tesseract only\n",
    "    # --psm: 10 means treat the image as a single character\n",
    "    # -l: chi_sim means use simplified chinese as parsing fontlib\n",
    "    config = ('--oem 0 --psm 10 -l chi_sim')\n",
    "    char = pytesseract.image_to_string(im, config=config)\n",
    "    return char"
   ]
  },
  {
   "cell_type": "code",
   "execution_count": 117,
   "metadata": {
    "ExecuteTime": {
     "end_time": "2019-05-22T10:03:54.844943Z",
     "start_time": "2019-05-22T10:03:54.840910Z"
    }
   },
   "outputs": [],
   "source": [
    "def gene_item_path(key, img_method):\n",
    "    item = (key, text[key])\n",
    "    img_path = './images/' + key + '_' + img_method + '.png'\n",
    "    return item, img_path"
   ]
  },
  {
   "cell_type": "code",
   "execution_count": 118,
   "metadata": {
    "ExecuteTime": {
     "end_time": "2019-05-22T10:03:54.850936Z",
     "start_time": "2019-05-22T10:03:54.845896Z"
    }
   },
   "outputs": [],
   "source": [
    "def text_ocr_pipeline(item, img_method, img_path, true_label):\n",
    "    key, im = create_img(item, img_method)\n",
    "    cv2.imwrite(img_path, im)\n",
    "    char = ocr(im)\n",
    "    return char, true_label, char==true_label"
   ]
  },
  {
   "cell_type": "markdown",
   "metadata": {},
   "source": [
    "### use method 1 (fill contour) for defualt imaging"
   ]
  },
  {
   "cell_type": "code",
   "execution_count": 119,
   "metadata": {
    "ExecuteTime": {
     "end_time": "2019-05-22T10:03:54.877834Z",
     "start_time": "2019-05-22T10:03:54.873840Z"
    }
   },
   "outputs": [],
   "source": [
    "key = 'unie055'\n",
    "true_label = '丁'"
   ]
  },
  {
   "cell_type": "code",
   "execution_count": 120,
   "metadata": {
    "ExecuteTime": {
     "end_time": "2019-05-22T10:03:54.883795Z",
     "start_time": "2019-05-22T10:03:54.879807Z"
    }
   },
   "outputs": [],
   "source": [
    "item, img_path = gene_item_path(key, 'm1')"
   ]
  },
  {
   "cell_type": "code",
   "execution_count": 121,
   "metadata": {
    "ExecuteTime": {
     "end_time": "2019-05-22T10:03:55.532059Z",
     "start_time": "2019-05-22T10:03:54.885789Z"
    }
   },
   "outputs": [
    {
     "data": {
      "text/plain": [
       "('丁', '丁', True)"
      ]
     },
     "execution_count": 121,
     "metadata": {},
     "output_type": "execute_result"
    }
   ],
   "source": [
    "text_ocr_pipeline(item, 'm1', img_path, true_label)"
   ]
  },
  {
   "cell_type": "code",
   "execution_count": 122,
   "metadata": {
    "ExecuteTime": {
     "end_time": "2019-05-22T10:03:55.545026Z",
     "start_time": "2019-05-22T10:03:55.534054Z"
    }
   },
   "outputs": [
    {
     "data": {
      "image/png": "[encoded data removed]",
      "text/plain": [
       "<PIL.PngImagePlugin.PngImageFile image mode=L size=256x256 at 0x2E46593AB70>"
      ]
     },
     "execution_count": 122,
     "metadata": {},
     "output_type": "execute_result"
    }
   ],
   "source": [
    "Image.open(img_path)"
   ]
  },
  {
   "cell_type": "markdown",
   "metadata": {},
   "source": [
    "### use method 2 (reconstruct contour) if method 1 fails"
   ]
  },
  {
   "cell_type": "code",
   "execution_count": 123,
   "metadata": {
    "ExecuteTime": {
     "end_time": "2019-05-22T10:03:55.552005Z",
     "start_time": "2019-05-22T10:03:55.547020Z"
    }
   },
   "outputs": [],
   "source": [
    "key = 'unie60f'\n",
    "true_label = '面'"
   ]
  },
  {
   "cell_type": "markdown",
   "metadata": {},
   "source": [
    "#### method 1 failed to parsing (dense lines in character)"
   ]
  },
  {
   "cell_type": "code",
   "execution_count": 124,
   "metadata": {
    "ExecuteTime": {
     "end_time": "2019-05-22T10:03:55.563975Z",
     "start_time": "2019-05-22T10:03:55.554003Z"
    }
   },
   "outputs": [],
   "source": [
    "item, img_path = gene_item_path(key, 'm1')"
   ]
  },
  {
   "cell_type": "code",
   "execution_count": 125,
   "metadata": {
    "ExecuteTime": {
     "end_time": "2019-05-22T10:03:56.186346Z",
     "start_time": "2019-05-22T10:03:55.564973Z"
    }
   },
   "outputs": [
    {
     "data": {
      "text/plain": [
       "('', '面', False)"
      ]
     },
     "execution_count": 125,
     "metadata": {},
     "output_type": "execute_result"
    }
   ],
   "source": [
    "text_ocr_pipeline(item, 'm1', img_path, true_label)"
   ]
  },
  {
   "cell_type": "code",
   "execution_count": 126,
   "metadata": {
    "ExecuteTime": {
     "end_time": "2019-05-22T10:03:56.194332Z",
     "start_time": "2019-05-22T10:03:56.187308Z"
    }
   },
   "outputs": [
    {
     "data": {
      "image/png": "[encoded data removed]",
      "text/plain": [
       "<PIL.PngImagePlugin.PngImageFile image mode=L size=256x256 at 0x2E46593AE48>"
      ]
     },
     "execution_count": 126,
     "metadata": {},
     "output_type": "execute_result"
    }
   ],
   "source": [
    "Image.open(img_path)"
   ]
  },
  {
   "cell_type": "markdown",
   "metadata": {},
   "source": [
    "#### method 2 could treat similar case (but not always work!!! need more thinking)"
   ]
  },
  {
   "cell_type": "code",
   "execution_count": 127,
   "metadata": {
    "ExecuteTime": {
     "end_time": "2019-05-22T10:03:56.199276Z",
     "start_time": "2019-05-22T10:03:56.195285Z"
    }
   },
   "outputs": [],
   "source": [
    "item, img_path = gene_item_path(key, 'm2')"
   ]
  },
  {
   "cell_type": "code",
   "execution_count": 128,
   "metadata": {
    "ExecuteTime": {
     "end_time": "2019-05-22T10:03:56.862321Z",
     "start_time": "2019-05-22T10:03:56.200273Z"
    }
   },
   "outputs": [
    {
     "data": {
      "text/plain": [
       "('面', '面', True)"
      ]
     },
     "execution_count": 128,
     "metadata": {},
     "output_type": "execute_result"
    }
   ],
   "source": [
    "text_ocr_pipeline(item, 'm2', img_path, true_label)"
   ]
  },
  {
   "cell_type": "code",
   "execution_count": 129,
   "metadata": {
    "ExecuteTime": {
     "end_time": "2019-05-22T10:03:56.870299Z",
     "start_time": "2019-05-22T10:03:56.863318Z"
    }
   },
   "outputs": [
    {
     "data": {
      "image/png": "[encoded data removed]",
      "text/plain": [
       "<PIL.PngImagePlugin.PngImageFile image mode=L size=256x256 at 0x2E463AC52E8>"
      ]
     },
     "execution_count": 129,
     "metadata": {},
     "output_type": "execute_result"
    }
   ],
   "source": [
    "Image.open(img_path)"
   ]
  },
  {
   "cell_type": "markdown",
   "metadata": {},
   "source": [
    "### use method 3 (line contour) if method 2 still fails"
   ]
  },
  {
   "cell_type": "code",
   "execution_count": 130,
   "metadata": {
    "ExecuteTime": {
     "end_time": "2019-05-22T10:03:56.875287Z",
     "start_time": "2019-05-22T10:03:56.871298Z"
    }
   },
   "outputs": [],
   "source": [
    "key = 'unie3e1'\n",
    "true_label = '四'"
   ]
  },
  {
   "cell_type": "markdown",
   "metadata": {},
   "source": [
    "#### method 1 fails"
   ]
  },
  {
   "cell_type": "code",
   "execution_count": 131,
   "metadata": {
    "ExecuteTime": {
     "end_time": "2019-05-22T10:03:56.881268Z",
     "start_time": "2019-05-22T10:03:56.877280Z"
    }
   },
   "outputs": [],
   "source": [
    "item, img_path = gene_item_path(key, 'm1')"
   ]
  },
  {
   "cell_type": "code",
   "execution_count": 132,
   "metadata": {
    "ExecuteTime": {
     "end_time": "2019-05-22T10:03:57.477898Z",
     "start_time": "2019-05-22T10:03:56.883264Z"
    }
   },
   "outputs": [
    {
     "data": {
      "text/plain": [
       "('.', '四', False)"
      ]
     },
     "execution_count": 132,
     "metadata": {},
     "output_type": "execute_result"
    }
   ],
   "source": [
    "text_ocr_pipeline(item, 'm1', img_path, true_label)"
   ]
  },
  {
   "cell_type": "code",
   "execution_count": 133,
   "metadata": {
    "ExecuteTime": {
     "end_time": "2019-05-22T10:03:57.486873Z",
     "start_time": "2019-05-22T10:03:57.478925Z"
    }
   },
   "outputs": [
    {
     "data": {
      "image/png": "[encoded data removed]",
      "text/plain": [
       "<PIL.PngImagePlugin.PngImageFile image mode=L size=256x256 at 0x2E463AC5A90>"
      ]
     },
     "execution_count": 133,
     "metadata": {},
     "output_type": "execute_result"
    }
   ],
   "source": [
    "Image.open(img_path)"
   ]
  },
  {
   "cell_type": "markdown",
   "metadata": {},
   "source": [
    "#### method 2 fails"
   ]
  },
  {
   "cell_type": "code",
   "execution_count": 134,
   "metadata": {
    "ExecuteTime": {
     "end_time": "2019-05-22T10:03:57.491878Z",
     "start_time": "2019-05-22T10:03:57.488869Z"
    }
   },
   "outputs": [],
   "source": [
    "item, img_path = gene_item_path(key, 'm2')"
   ]
  },
  {
   "cell_type": "code",
   "execution_count": 135,
   "metadata": {
    "ExecuteTime": {
     "end_time": "2019-05-22T10:03:58.113160Z",
     "start_time": "2019-05-22T10:03:57.492858Z"
    }
   },
   "outputs": [
    {
     "data": {
      "text/plain": [
       "('', '四', False)"
      ]
     },
     "execution_count": 135,
     "metadata": {},
     "output_type": "execute_result"
    }
   ],
   "source": [
    "text_ocr_pipeline(item, 'm2', img_path, true_label)"
   ]
  },
  {
   "cell_type": "code",
   "execution_count": 136,
   "metadata": {
    "ExecuteTime": {
     "end_time": "2019-05-22T10:03:58.121163Z",
     "start_time": "2019-05-22T10:03:58.114170Z"
    }
   },
   "outputs": [
    {
     "data": {
      "image/png": "[encoded data removed]",
      "text/plain": [
       "<PIL.PngImagePlugin.PngImageFile image mode=L size=256x256 at 0x2E461AB8128>"
      ]
     },
     "execution_count": 136,
     "metadata": {},
     "output_type": "execute_result"
    }
   ],
   "source": [
    "Image.open(img_path)"
   ]
  },
  {
   "cell_type": "markdown",
   "metadata": {},
   "source": [
    "#### method 3 works"
   ]
  },
  {
   "cell_type": "code",
   "execution_count": 137,
   "metadata": {
    "ExecuteTime": {
     "end_time": "2019-05-22T10:03:58.126126Z",
     "start_time": "2019-05-22T10:03:58.122136Z"
    }
   },
   "outputs": [],
   "source": [
    "item, img_path = gene_item_path(key, 'm3')"
   ]
  },
  {
   "cell_type": "code",
   "execution_count": 138,
   "metadata": {
    "ExecuteTime": {
     "end_time": "2019-05-22T10:03:58.828185Z",
     "start_time": "2019-05-22T10:03:58.128121Z"
    }
   },
   "outputs": [
    {
     "data": {
      "text/plain": [
       "('四', '四', True)"
      ]
     },
     "execution_count": 138,
     "metadata": {},
     "output_type": "execute_result"
    }
   ],
   "source": [
    "text_ocr_pipeline(item, 'm3', img_path, true_label)"
   ]
  },
  {
   "cell_type": "code",
   "execution_count": 139,
   "metadata": {
    "ExecuteTime": {
     "end_time": "2019-05-22T10:03:58.837161Z",
     "start_time": "2019-05-22T10:03:58.830180Z"
    }
   },
   "outputs": [
    {
     "data": {
      "image/png": "[encoded data removed]",
      "text/plain": [
       "<PIL.PngImagePlugin.PngImageFile image mode=L size=256x256 at 0x2E465966710>"
      ]
     },
     "execution_count": 139,
     "metadata": {},
     "output_type": "execute_result"
    }
   ],
   "source": [
    "Image.open(img_path)"
   ]
  },
  {
   "cell_type": "code",
   "execution_count": null,
   "metadata": {},
   "outputs": [],
   "source": []
  }
 ],
 "metadata": {
  "hide_input": false,
  "kernelspec": {
   "display_name": "Python 3",
   "language": "python",
   "name": "python3"
  },
  "language_info": {
   "codemirror_mode": {
    "name": "ipython",
    "version": 3
   },
   "file_extension": ".py",
   "mimetype": "text/x-python",
   "name": "python",
   "nbconvert_exporter": "python",
   "pygments_lexer": "ipython3",
   "version": "3.6.5"
  },
  "toc": {
   "base_numbering": 1,
   "nav_menu": {},
   "number_sections": true,
   "sideBar": true,
   "skip_h1_title": false,
   "title_cell": "Table of Contents",
   "title_sidebar": "Contents",
   "toc_cell": false,
   "toc_position": {},
   "toc_section_display": true,
   "toc_window_display": true
  },
  "varInspector": {
   "cols": {
    "lenName": 16,
    "lenType": 16,
    "lenVar": 40
   },
   "kernels_config": {
    "python": {
     "delete_cmd_postfix": "",
     "delete_cmd_prefix": "del ",
     "library": "var_list.py",
     "varRefreshCmd": "print(var_dic_list())"
    },
    "r": {
     "delete_cmd_postfix": ") ",
     "delete_cmd_prefix": "rm(",
     "library": "var_list.r",
     "varRefreshCmd": "cat(var_dic_list()) "
    }
   },
   "types_to_exclude": [
    "module",
    "function",
    "builtin_function_or_method",
    "instance",
    "_Feature"
   ],
   "window_display": false
  }
 },
 "nbformat": 4,
 "nbformat_minor": 2
}
